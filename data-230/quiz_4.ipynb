{
 "cells": [
  {
   "cell_type": "code",
   "execution_count": 4,
   "metadata": {},
   "outputs": [],
   "source": [
    "import numpy as np\n",
    "from sklearn.decomposition import PCA"
   ]
  },
  {
   "cell_type": "code",
   "execution_count": 5,
   "metadata": {},
   "outputs": [],
   "source": [
    "X = np.array([[-1, -1, 0, 2, 0], [-2, 0, 0, 1, 1]])"
   ]
  },
  {
   "cell_type": "code",
   "execution_count": 6,
   "metadata": {},
   "outputs": [
    {
     "name": "stdout",
     "output_type": "stream",
     "text": [
      "[[1.5 1. ]\n",
      " [1.  1.5]]\n"
     ]
    }
   ],
   "source": [
    "cov_matrix = np.cov(X)\n",
    "\n",
    "print(cov_matrix)\n"
   ]
  },
  {
   "cell_type": "code",
   "execution_count": 12,
   "metadata": {},
   "outputs": [
    {
     "name": "stdout",
     "output_type": "stream",
     "text": [
      "[[-0.8660254]\n",
      " [ 0.8660254]]\n",
      "Eigenvalues: [1.5]\n",
      "Eigenvectors:\n",
      " [[-1.66408061e-16  5.77350269e-01  0.00000000e+00 -5.77350269e-01\n",
      "   5.77350269e-01]]\n",
      "Transformed Data: \n",
      " [[-0.8660254  0.8660254]]\n"
     ]
    }
   ],
   "source": [
    "pca = PCA(n_components=1)\n",
    "\n",
    "pca.fit(X)\n",
    "X_pca = pca.transform(X)\n",
    "print(X_pca)\n",
    "\n",
    "# Extracting the results\n",
    "eigenvalues_sklearn = pca.explained_variance_\n",
    "eigenvectors_sklearn = pca.components_\n",
    "transformed_data_sklearn = X_pca.T\n",
    "# Output the results\n",
    "print (\"Eigenvalues:\", eigenvalues_sklearn)\n",
    "print(\"Eigenvectors:\\n\", eigenvectors_sklearn)\n",
    "print(\"Transformed Data: \\n\", transformed_data_sklearn)"
   ]
  },
  {
   "cell_type": "code",
   "execution_count": 11,
   "metadata": {},
   "outputs": [
    {
     "name": "stdout",
     "output_type": "stream",
     "text": [
      "Principal Component (PCI): [-0.8660254  0.8660254]\n"
     ]
    }
   ],
   "source": [
    "X = [[-1, -1, 0, 2, 0], [-1, 0, 0, 1, 1]]\n",
    "\n",
    "# Perform PCA\n",
    "pca = PCA(n_components=1)\n",
    "pca.fit(X)\n",
    "X_pca = pca.transform(X)\n",
    "\n",
    "# Extract the principal component (PCI)\n",
    "principal_component = X_pca.flatten()\n",
    "\n",
    "# Output the principal component\n",
    "print(\"Principal Component (PCI):\", principal_component)\n"
   ]
  }
 ],
 "metadata": {
  "kernelspec": {
   "display_name": "msda",
   "language": "python",
   "name": "python3"
  },
  "language_info": {
   "codemirror_mode": {
    "name": "ipython",
    "version": 3
   },
   "file_extension": ".py",
   "mimetype": "text/x-python",
   "name": "python",
   "nbconvert_exporter": "python",
   "pygments_lexer": "ipython3",
   "version": "3.11.5"
  }
 },
 "nbformat": 4,
 "nbformat_minor": 2
}
