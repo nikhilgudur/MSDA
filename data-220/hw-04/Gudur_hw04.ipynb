{
 "cells": [
  {
   "cell_type": "code",
   "execution_count": 29,
   "metadata": {},
   "outputs": [],
   "source": [
    "# Importing the libraries\n",
    "\n",
    "import pandas as pd\n",
    "from scipy.stats import ttest_ind"
   ]
  },
  {
   "cell_type": "code",
   "execution_count": 30,
   "metadata": {},
   "outputs": [],
   "source": [
    "# Read the data from the csv file\n",
    "\n",
    "df = pd.read_csv('./Bank.csv')\n",
    "\n",
    "# Declaring the alpha values\n",
    "alpha05 = 0.05\n",
    "alpha01 = 0.01"
   ]
  },
  {
   "cell_type": "code",
   "execution_count": 31,
   "metadata": {},
   "outputs": [],
   "source": [
    "# Reading the values of people with and without loan along with their age, income and education\n",
    "\n",
    "people_with_loan = df[df['PersonalLoan'] == 1]\n",
    "people_without_loan = df[df['PersonalLoan'] == 0]\n",
    "\n",
    "age_with_loan = people_with_loan['Age']\n",
    "age_without_loan = people_without_loan['Age']\n",
    "\n",
    "income_with_loan = people_with_loan['Income']\n",
    "income_without_loan = people_without_loan['Income']\n",
    "\n",
    "education_with_loan = people_with_loan['Education']\n",
    "education_without_loan = people_without_loan['Education']\n"
   ]
  },
  {
   "cell_type": "code",
   "execution_count": 32,
   "metadata": {},
   "outputs": [
    {
     "name": "stdout",
     "output_type": "stream",
     "text": [
      "Independent T-Test for Age with 99% Confidence Interval\n",
      "T-Statistic for Age:  -0.5461906615539323\n",
      "P-Value for Age:  0.584959263705325\n",
      "Accept Null Hypothesis for Age\n"
     ]
    }
   ],
   "source": [
    "# T-Test for Age with 95% Confidence Interval\n",
    "\n",
    "t_stat_age, p_val_age = ttest_ind(age_with_loan, age_without_loan)\n",
    "\n",
    "print(\"Independent T-Test for Age with 99% Confidence Interval\")\n",
    "print(\"T-Statistic for Age: \", t_stat_age)\n",
    "print(\"P-Value for Age: \", p_val_age)\n",
    "\n",
    "if p_val_age < alpha05:\n",
    "    print(\"Reject Null Hypothesis for Age\")\n",
    "else:\n",
    "    print(\"Accept Null Hypothesis for Age\")\n"
   ]
  },
  {
   "cell_type": "code",
   "execution_count": 33,
   "metadata": {},
   "outputs": [
    {
     "name": "stdout",
     "output_type": "stream",
     "text": [
      "Independent T-Test for Income with 99% Confidence Interval\n",
      "T-Statistic for Income:  41.08533291207552\n",
      "P-Value for Income:  0.0\n",
      "Reject Null Hypothesis for Income\n"
     ]
    }
   ],
   "source": [
    "# T-Test for Income with 99% Confidence Interval\n",
    "\n",
    "t_stat_income, p_val_income = ttest_ind(income_with_loan, income_without_loan)\n",
    "\n",
    "print(\"Independent T-Test for Income with 99% Confidence Interval\")\n",
    "print(\"T-Statistic for Income: \", t_stat_income)\n",
    "print(\"P-Value for Income: \", p_val_income)\n",
    "\n",
    "if p_val_income < alpha01:\n",
    "    print(\"Reject Null Hypothesis for Income\")\n",
    "else:\n",
    "    print(\"Accept Null Hypothesis for Income\")\n"
   ]
  },
  {
   "cell_type": "code",
   "execution_count": 34,
   "metadata": {},
   "outputs": [
    {
     "name": "stdout",
     "output_type": "stream",
     "text": [
      "Independent T-Test for Income with 95% Confidence Interval\n",
      "T-Statistic for Income:  41.08533291207552\n",
      "P-Value for Income:  0.0\n",
      "Reject Null Hypothesis for Income\n"
     ]
    }
   ],
   "source": [
    "# T-Test for Income 95% Confidence Interval\n",
    "\n",
    "print(\"Independent T-Test for Income with 95% Confidence Interval\")\n",
    "print(\"T-Statistic for Income: \", t_stat_income)\n",
    "print(\"P-Value for Income: \", p_val_income)\n",
    "\n",
    "if p_val_income < alpha05:\n",
    "    print(\"Reject Null Hypothesis for Income\")\n",
    "else:\n",
    "    print(\"Accept Null Hypothesis for Income\")\n",
    "    "
   ]
  },
  {
   "cell_type": "code",
   "execution_count": 35,
   "metadata": {},
   "outputs": [
    {
     "name": "stdout",
     "output_type": "stream",
     "text": [
      "Independent T-Test for Education with 99% Confidence Interval\n",
      "T-Statistic for Education:  9.757366156256905\n",
      "P-Value for Education:  2.7096631935767285e-22\n",
      "Reject Null Hypothesis for Education\n"
     ]
    }
   ],
   "source": [
    "# T-Test for Education with 99% Confidence Interval\n",
    "\n",
    "t_stat_education, p_val_education = ttest_ind(education_with_loan, education_without_loan)\n",
    "\n",
    "print(\"Independent T-Test for Education with 99% Confidence Interval\")\n",
    "print(\"T-Statistic for Education: \", t_stat_education)\n",
    "print(\"P-Value for Education: \", p_val_education)\n",
    "\n",
    "if p_val_education < alpha01:\n",
    "    print(\"Reject Null Hypothesis for Education\")\n",
    "else:\n",
    "    print(\"Accept Null Hypothesis for Education\")\n",
    "    \n"
   ]
  }
 ],
 "metadata": {
  "kernelspec": {
   "display_name": "msda",
   "language": "python",
   "name": "python3"
  },
  "language_info": {
   "codemirror_mode": {
    "name": "ipython",
    "version": 3
   },
   "file_extension": ".py",
   "mimetype": "text/x-python",
   "name": "python",
   "nbconvert_exporter": "python",
   "pygments_lexer": "ipython3",
   "version": "3.11.5"
  },
  "orig_nbformat": 4
 },
 "nbformat": 4,
 "nbformat_minor": 2
}
