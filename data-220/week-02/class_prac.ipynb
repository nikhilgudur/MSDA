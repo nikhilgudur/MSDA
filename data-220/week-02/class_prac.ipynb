{
 "cells": [
  {
   "cell_type": "code",
   "execution_count": 9,
   "metadata": {},
   "outputs": [
    {
     "name": "stdout",
     "output_type": "stream",
     "text": [
      "[(1, 1, 1), (1, 1, 2), (1, 1, 3), (1, 2, 1), (1, 2, 2), (1, 2, 3), (1, 3, 1), (1, 3, 2), (1, 3, 3), (2, 1, 1), (2, 1, 2), (2, 1, 3), (2, 2, 1), (2, 2, 2), (2, 2, 3), (2, 3, 1), (2, 3, 2), (2, 3, 3), (3, 1, 1), (3, 1, 2), (3, 1, 3), (3, 2, 1), (3, 2, 2), (3, 2, 3), (3, 3, 1), (3, 3, 2), (3, 3, 3)]\n"
     ]
    }
   ],
   "source": [
    "from itertools import product, permutations, combinations\n",
    "import numpy as np\n",
    "import pandas as pd\n",
    "from scipy.special import perm\n",
    "\n",
    "perm_wr = product([1,2,3], repeat=3)\n",
    "\n",
    "\n",
    "print(list(perm_wr))"
   ]
  },
  {
   "cell_type": "code",
   "execution_count": 10,
   "metadata": {},
   "outputs": [
    {
     "name": "stdout",
     "output_type": "stream",
     "text": [
      "<module 'pandas' from '/opt/homebrew/lib/python3.11/site-packages/pandas/__init__.py'> <module 'numpy' from '/opt/homebrew/lib/python3.11/site-packages/numpy/__init__.py'>\n",
      "6\n"
     ]
    }
   ],
   "source": [
    "perm_wor = perm(3,2, exact=True)\n",
    "\n",
    "print(pd, np)\n",
    "\n",
    "print(perm_wor)"
   ]
  }
 ],
 "metadata": {
  "kernelspec": {
   "display_name": "Python 3 (ipykernel)",
   "language": "python",
   "name": "python3"
  },
  "language_info": {
   "codemirror_mode": {
    "name": "ipython",
    "version": 3
   },
   "file_extension": ".py",
   "mimetype": "text/x-python",
   "name": "python",
   "nbconvert_exporter": "python",
   "pygments_lexer": "ipython3",
   "version": "3.11.4"
  },
  "orig_nbformat": 4
 },
 "nbformat": 4,
 "nbformat_minor": 2
}
