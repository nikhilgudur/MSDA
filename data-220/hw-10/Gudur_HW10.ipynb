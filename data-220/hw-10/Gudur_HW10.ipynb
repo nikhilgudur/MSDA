{
 "cells": [
  {
   "cell_type": "code",
   "execution_count": 20,
   "metadata": {},
   "outputs": [],
   "source": [
    "import numpy as np"
   ]
  },
  {
   "cell_type": "code",
   "execution_count": 21,
   "metadata": {},
   "outputs": [],
   "source": [
    "x = np.array([1, 2, 3, 4, 5, 6, 7, 8, 9, 10])\n",
    "y = np.array([2.067, 3.939, 5.994, 8.071, 10.045, 11.867, 13.926, 15.941, 18.041, 20.105])\n",
    "threshold = 1E-06\n",
    "lr = 0.001"
   ]
  },
  {
   "cell_type": "code",
   "execution_count": 22,
   "metadata": {},
   "outputs": [
    {
     "data": {
      "text/plain": [
       "2.00017413958362"
      ]
     },
     "execution_count": 22,
     "metadata": {},
     "output_type": "execute_result"
    }
   ],
   "source": [
    "# 1.A\n",
    "\n",
    "a = 100\n",
    "\n",
    "while True:\n",
    "  y_pred = a * x\n",
    "\n",
    "  error = np.sum((y_pred - y) ** 2)\n",
    "\n",
    "  gradient = 2 * np.sum((y_pred - y) * x)\n",
    "  a_new = a - lr * gradient\n",
    "\n",
    "  if abs(a_new - a) < threshold:\n",
    "    break\n",
    "\n",
    "  a = a_new\n",
    "\n",
    "optimal_a = a_new\n",
    "optimal_a\n"
   ]
  },
  {
   "cell_type": "code",
   "execution_count": 23,
   "metadata": {},
   "outputs": [
    {
     "data": {
      "text/plain": [
       "1.9979558342190533"
      ]
     },
     "execution_count": 23,
     "metadata": {},
     "output_type": "execute_result"
    }
   ],
   "source": [
    "# 1.B\n",
    "a = 100\n",
    "\n",
    "while True:\n",
    "  random_index = np.random.randint(len(x))\n",
    "  x_i = x[random_index]\n",
    "  y_i = y[random_index]\n",
    "\n",
    "  y_pred = a * x_i\n",
    "\n",
    "  error = (y_pred - y_i) ** 2\n",
    "  gradient = 2 * (y_pred - y_i) * x_i\n",
    "\n",
    "  a_new = a - lr * gradient\n",
    "\n",
    "  if abs(a_new - a) < threshold:\n",
    "    break\n",
    "\n",
    "  a = a_new\n",
    "\n",
    "optimal_a = a_new\n",
    "optimal_a"
   ]
  },
  {
   "cell_type": "code",
   "execution_count": 24,
   "metadata": {},
   "outputs": [
    {
     "data": {
      "text/plain": [
       "1.9998911319011055"
      ]
     },
     "execution_count": 24,
     "metadata": {},
     "output_type": "execute_result"
    }
   ],
   "source": [
    "# 1.C\n",
    "a = 100\n",
    "\n",
    "while True:\n",
    "  indices = np.random.choice(len(x), size=3, replace=False)\n",
    "  x_batch = x[indices]\n",
    "  y_batch = y[indices]\n",
    "\n",
    "  y_pred = a * x_batch\n",
    "\n",
    "  error = np.mean((y_pred - y_batch) ** 2)\n",
    "  gradient = 2 * np.mean((y_pred - y_batch) * x_batch)\n",
    "\n",
    "  a_new = a - lr * gradient\n",
    "\n",
    "  if abs(a_new - a) < threshold:\n",
    "    break\n",
    "\n",
    "  a = a_new\n",
    "\n",
    "optimal_a = a_new\n",
    "optimal_a\n"
   ]
  }
 ],
 "metadata": {
  "kernelspec": {
   "display_name": "msda",
   "language": "python",
   "name": "python3"
  },
  "language_info": {
   "codemirror_mode": {
    "name": "ipython",
    "version": 3
   },
   "file_extension": ".py",
   "mimetype": "text/x-python",
   "name": "python",
   "nbconvert_exporter": "python",
   "pygments_lexer": "ipython3",
   "version": "3.11.5"
  }
 },
 "nbformat": 4,
 "nbformat_minor": 2
}
