{
 "cells": [
  {
   "cell_type": "code",
   "execution_count": 2,
   "id": "7f32896c",
   "metadata": {},
   "outputs": [],
   "source": [
    "import numpy as np"
   ]
  },
  {
   "cell_type": "code",
   "execution_count": 3,
   "metadata": {},
   "outputs": [],
   "source": [
    "x = np.array([2,5,7,9,10])\n",
    "y = np.array([60,52,40,36,3])\n",
    "i=1000\n",
    "l=0.005"
   ]
  },
  {
   "cell_type": "code",
   "execution_count": 4,
   "metadata": {},
   "outputs": [],
   "source": [
    "def gradient_descent(x,y,i,l):\n",
    "    m_curr = b_curr = 0\n",
    "    iterations = i\n",
    "    n = len(x)\n",
    "    learning_rate = l\n",
    "\n",
    "    for i in range(iterations):\n",
    "        y_predicted = m_curr * x + b_curr\n",
    "        md = -(2/n)*sum(x*(y-y_predicted))\n",
    "        bd = -(2/n)*sum(y-y_predicted)\n",
    "        m_curr = m_curr - learning_rate * md\n",
    "        b_curr = b_curr - learning_rate * bd\n",
    "\n",
    "    print (f\"Local Minima - Slope: {m_curr}\")\n",
    "    print(f\"Local Minima - Intercept: {b_curr}\")"
   ]
  },
  {
   "cell_type": "code",
   "execution_count": 5,
   "id": "a72ba21d",
   "metadata": {},
   "outputs": [
    {
     "name": "stdout",
     "output_type": "stream",
     "text": [
      "Local Minima - Slope: -3.925379361415978\n",
      "Local Minima - Intercept: 61.58440918856061\n"
     ]
    }
   ],
   "source": [
    "gradient_descent(x,y,i,l)"
   ]
  }
 ],
 "metadata": {
  "kernelspec": {
   "display_name": "Python 3 (ipykernel)",
   "language": "python",
   "name": "python3"
  },
  "language_info": {
   "codemirror_mode": {
    "name": "ipython",
    "version": 3
   },
   "file_extension": ".py",
   "mimetype": "text/x-python",
   "name": "python",
   "nbconvert_exporter": "python",
   "pygments_lexer": "ipython3",
   "version": "3.11.5"
  }
 },
 "nbformat": 4,
 "nbformat_minor": 5
}
