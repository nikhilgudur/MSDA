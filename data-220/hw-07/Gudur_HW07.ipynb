{
 "cells": [
  {
   "cell_type": "code",
   "execution_count": 6,
   "metadata": {},
   "outputs": [],
   "source": [
    "from scipy import stats\n",
    "import pandas as pd"
   ]
  },
  {
   "cell_type": "code",
   "execution_count": 7,
   "metadata": {},
   "outputs": [],
   "source": [
    "df = pd.DataFrame({\n",
    "    'A': [85, 92, 88, 78, 90],\n",
    "    'B': [76, 82, 80, 70, 75],\n",
    "    'C': [95, 89, 92, 88, 96],\n",
    "})"
   ]
  },
  {
   "cell_type": "code",
   "execution_count": 8,
   "metadata": {},
   "outputs": [
    {
     "name": "stdout",
     "output_type": "stream",
     "text": [
      "F statistic: 14.287051482059296\n",
      "P value: 0.0006692585289183767\n"
     ]
    }
   ],
   "source": [
    "f_stats, p_value = stats.f_oneway(df['A'], df['B'], df['C'])\n",
    "\n",
    "print('F statistic:', f_stats)\n",
    "print('P value:', p_value)"
   ]
  },
  {
   "cell_type": "code",
   "execution_count": 9,
   "metadata": {},
   "outputs": [
    {
     "name": "stdout",
     "output_type": "stream",
     "text": [
      "The average test scores of the three teaching methods are significantly different\n"
     ]
    }
   ],
   "source": [
    "if p_value < 0.05:\n",
    "    print('The average test scores of the three teaching methods are significantly different')\n",
    "else:\n",
    "    print('The average test scores of the three teaching methods are not significantly different.')"
   ]
  }
 ],
 "metadata": {
  "kernelspec": {
   "display_name": "msda",
   "language": "python",
   "name": "python3"
  },
  "language_info": {
   "codemirror_mode": {
    "name": "ipython",
    "version": 3
   },
   "file_extension": ".py",
   "mimetype": "text/x-python",
   "name": "python",
   "nbconvert_exporter": "python",
   "pygments_lexer": "ipython3",
   "version": "3.11.5"
  }
 },
 "nbformat": 4,
 "nbformat_minor": 2
}
