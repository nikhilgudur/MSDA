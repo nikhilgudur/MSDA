{
 "cells": [
  {
   "cell_type": "code",
   "execution_count": 12,
   "metadata": {},
   "outputs": [],
   "source": [
    "import pandas as pd\n",
    "from sklearn.linear_model import LinearRegression\n",
    "from sklearn.metrics import r2_score\n",
    "from sklearn.preprocessing import PolynomialFeatures\n",
    "import matplotlib.pyplot as plt\n"
   ]
  },
  {
   "cell_type": "code",
   "execution_count": 3,
   "metadata": {},
   "outputs": [
    {
     "data": {
      "text/html": [
       "<div>\n",
       "<style scoped>\n",
       "    .dataframe tbody tr th:only-of-type {\n",
       "        vertical-align: middle;\n",
       "    }\n",
       "\n",
       "    .dataframe tbody tr th {\n",
       "        vertical-align: top;\n",
       "    }\n",
       "\n",
       "    .dataframe thead th {\n",
       "        text-align: right;\n",
       "    }\n",
       "</style>\n",
       "<table border=\"1\" class=\"dataframe\">\n",
       "  <thead>\n",
       "    <tr style=\"text-align: right;\">\n",
       "      <th></th>\n",
       "      <th>cement</th>\n",
       "      <th>slag</th>\n",
       "      <th>flyash</th>\n",
       "      <th>water</th>\n",
       "      <th>superplasticizer</th>\n",
       "      <th>coarseaggregate</th>\n",
       "      <th>fineaggregate</th>\n",
       "      <th>age</th>\n",
       "      <th>csMPa</th>\n",
       "    </tr>\n",
       "  </thead>\n",
       "  <tbody>\n",
       "    <tr>\n",
       "      <th>0</th>\n",
       "      <td>540.0</td>\n",
       "      <td>0.0</td>\n",
       "      <td>0.0</td>\n",
       "      <td>162.0</td>\n",
       "      <td>2.5</td>\n",
       "      <td>1040.0</td>\n",
       "      <td>676.0</td>\n",
       "      <td>28</td>\n",
       "      <td>79.99</td>\n",
       "    </tr>\n",
       "    <tr>\n",
       "      <th>1</th>\n",
       "      <td>540.0</td>\n",
       "      <td>0.0</td>\n",
       "      <td>0.0</td>\n",
       "      <td>162.0</td>\n",
       "      <td>2.5</td>\n",
       "      <td>1055.0</td>\n",
       "      <td>676.0</td>\n",
       "      <td>28</td>\n",
       "      <td>61.89</td>\n",
       "    </tr>\n",
       "    <tr>\n",
       "      <th>2</th>\n",
       "      <td>332.5</td>\n",
       "      <td>142.5</td>\n",
       "      <td>0.0</td>\n",
       "      <td>228.0</td>\n",
       "      <td>0.0</td>\n",
       "      <td>932.0</td>\n",
       "      <td>594.0</td>\n",
       "      <td>270</td>\n",
       "      <td>40.27</td>\n",
       "    </tr>\n",
       "    <tr>\n",
       "      <th>3</th>\n",
       "      <td>332.5</td>\n",
       "      <td>142.5</td>\n",
       "      <td>0.0</td>\n",
       "      <td>228.0</td>\n",
       "      <td>0.0</td>\n",
       "      <td>932.0</td>\n",
       "      <td>594.0</td>\n",
       "      <td>365</td>\n",
       "      <td>41.05</td>\n",
       "    </tr>\n",
       "    <tr>\n",
       "      <th>4</th>\n",
       "      <td>198.6</td>\n",
       "      <td>132.4</td>\n",
       "      <td>0.0</td>\n",
       "      <td>192.0</td>\n",
       "      <td>0.0</td>\n",
       "      <td>978.4</td>\n",
       "      <td>825.5</td>\n",
       "      <td>360</td>\n",
       "      <td>44.30</td>\n",
       "    </tr>\n",
       "  </tbody>\n",
       "</table>\n",
       "</div>"
      ],
      "text/plain": [
       "   cement   slag  flyash  water  superplasticizer  coarseaggregate  \\\n",
       "0   540.0    0.0     0.0  162.0               2.5           1040.0   \n",
       "1   540.0    0.0     0.0  162.0               2.5           1055.0   \n",
       "2   332.5  142.5     0.0  228.0               0.0            932.0   \n",
       "3   332.5  142.5     0.0  228.0               0.0            932.0   \n",
       "4   198.6  132.4     0.0  192.0               0.0            978.4   \n",
       "\n",
       "   fineaggregate  age  csMPa  \n",
       "0          676.0   28  79.99  \n",
       "1          676.0   28  61.89  \n",
       "2          594.0  270  40.27  \n",
       "3          594.0  365  41.05  \n",
       "4          825.5  360  44.30  "
      ]
     },
     "execution_count": 3,
     "metadata": {},
     "output_type": "execute_result"
    }
   ],
   "source": [
    "# Using sklearn.linear_model, please make a linear regression model. (4 points)\n",
    "# a. Find “Concrete.csv” file and read it as data frame.\n",
    "\n",
    "df = pd.read_csv('Concrete.csv')\n",
    "df.head()"
   ]
  },
  {
   "cell_type": "code",
   "execution_count": 5,
   "metadata": {},
   "outputs": [
    {
     "name": "stdout",
     "output_type": "stream",
     "text": [
      "   cement\n",
      "0   540.0\n",
      "1   540.0\n",
      "2   332.5\n",
      "3   332.5\n",
      "4   198.6\n",
      "   csMPa\n",
      "0  79.99\n",
      "1  61.89\n",
      "2  40.27\n",
      "3  41.05\n",
      "4  44.30\n"
     ]
    }
   ],
   "source": [
    "# b. Choose “cement” as x (explanatory variable) and “csMPa” as y (response variable). (1 points)\n",
    "\n",
    "x = df[['cement']]\n",
    "y = df[['csMPa']]\n",
    "\n",
    "print(x.head())\n",
    "print(y.head())"
   ]
  },
  {
   "cell_type": "code",
   "execution_count": 7,
   "metadata": {},
   "outputs": [
    {
     "name": "stdout",
     "output_type": "stream",
     "text": [
      "[13.44252811] [[0.07958034]]\n"
     ]
    }
   ],
   "source": [
    "# c. Do a linear regression and find intercept and slope. (1 points)\n",
    "\n",
    "lr = LinearRegression()\n",
    "lr.fit(x, y)\n",
    "\n",
    "intercept = lr.intercept_\n",
    "slope = lr.coef_\n",
    "\n",
    "print(intercept, slope)"
   ]
  },
  {
   "cell_type": "code",
   "execution_count": 10,
   "metadata": {},
   "outputs": [
    {
     "name": "stderr",
     "output_type": "stream",
     "text": [
      "/opt/homebrew/Caskroom/miniconda/base/envs/msda/lib/python3.11/site-packages/sklearn/base.py:439: UserWarning: X does not have valid feature names, but LinearRegression was fitted with feature names\n",
      "  warnings.warn(\n"
     ]
    },
    {
     "data": {
      "image/png": "[encoded data removed]",
      "text/plain": [
       "<Figure size 640x480 with 1 Axes>"
      ]
     },
     "metadata": {},
     "output_type": "display_data"
    }
   ],
   "source": [
    "# d. Draw scatter plot for all data and draw a line (scatter plot) you obtained in 1.c. on the same graph. (1 points)\n",
    "\n",
    "X = x.values.reshape(-1, 1)\n",
    "\n",
    "plt.scatter(X, y)\n",
    "plt.plot(X, lr.predict(X), color='red')\n",
    "plt.xlabel('cement')\n",
    "plt.ylabel('csMPa')\n",
    "plt.show()"
   ]
  },
  {
   "cell_type": "code",
   "execution_count": 13,
   "metadata": {},
   "outputs": [
    {
     "name": "stdout",
     "output_type": "stream",
     "text": [
      "0.24783661989797434\n"
     ]
    }
   ],
   "source": [
    "# e. Calculate R2 score. (1 points)\n",
    "\n",
    "r2 = r2_score(y, lr.predict(x))\n",
    "print(r2)\n"
   ]
  },
  {
   "cell_type": "code",
   "execution_count": 16,
   "metadata": {},
   "outputs": [
    {
     "name": "stdout",
     "output_type": "stream",
     "text": [
      "Intercept and Slope\n",
      " [11.56349212] [[ 0.00000000e+00  9.70571283e-02 -4.67201662e-05  3.64987892e-08]]\n",
      "R2 score\n",
      " 0.2479157876943301\n"
     ]
    }
   ],
   "source": [
    "# Using sklearn.linear_model, please make a polynomial regression model. (3 points)\n",
    "# a. Find “Concrete.csv” file and read it as data frame.\n",
    "# b. Choose “cement” as x (explanatory variable) and “csMPa” as y (response variable).   (1 points)\n",
    "# c. Do a polynomial regression (with polynomial order = 3) and find intercept and slopes. (1 points)\n",
    "# d. Calculate R2 score. (1 points)\n",
    "\n",
    "poly_feat = PolynomialFeatures(degree=3)\n",
    "x_polly = poly_feat.fit_transform(x)\n",
    "\n",
    "polly_reg = LinearRegression()\n",
    "polly_reg.fit(x_polly, y)\n",
    "\n",
    "\n",
    "\n",
    "intercept = polly_reg.intercept_\n",
    "slope = polly_reg.coef_\n",
    "\n",
    "print(\"Intercept and Slope\\n\", intercept,slope)\n",
    "\n",
    "polly_r2 = r2_score(y, polly_reg.predict(x_polly))\n",
    "\n",
    "print(\"R2 score\\n\", polly_r2)\n",
    "\n"
   ]
  },
  {
   "cell_type": "code",
   "execution_count": 19,
   "metadata": {},
   "outputs": [
    {
     "name": "stdout",
     "output_type": "stream",
     "text": [
      "   cement  water  age\n",
      "0   540.0  162.0   28\n",
      "1   540.0  162.0   28\n",
      "2   332.5  228.0  270\n",
      "3   332.5  228.0  365\n",
      "4   198.6  192.0  360\n",
      "   csMPa\n",
      "0  79.99\n",
      "1  61.89\n",
      "2  40.27\n",
      "3  41.05\n",
      "4  44.30\n"
     ]
    }
   ],
   "source": [
    "# Using sklearn.linear_model, please make a multivariate linear regression model. (4 points)\n",
    "# a. Find “Concrete.csv” file and read it as data frame.\n",
    "# b. Choose “cement”, “water”, and “age” as x (explanatory variables) and “csMPa” as y (response variable). (2 points)\n",
    "\n",
    "x = df[['cement', 'water', 'age']]\n",
    "y = df[['csMPa']]\n",
    "\n",
    "print(x.head())\n",
    "print(y.head())"
   ]
  },
  {
   "cell_type": "code",
   "execution_count": 20,
   "metadata": {},
   "outputs": [
    {
     "name": "stdout",
     "output_type": "stream",
     "text": [
      "Intercept and Coefficients\n",
      " [63.09639507] [[ 0.06967805 -0.28434749  0.10421189]]\n"
     ]
    }
   ],
   "source": [
    "# c. Do a (multivariate) linear regression and find optimal coefficients. (10 points)\n",
    "\n",
    "\n",
    "mult_lr = LinearRegression()\n",
    "mult_lr.fit(x, y)\n",
    "\n",
    "intercept = mult_lr.intercept_\n",
    "coeff = mult_lr.coef_\n",
    "\n",
    "\n",
    "print(\"Intercept and Coefficients\\n\", intercept, coeff)"
   ]
  },
  {
   "cell_type": "code",
   "execution_count": 22,
   "metadata": {},
   "outputs": [
    {
     "name": "stdout",
     "output_type": "stream",
     "text": [
      "R2 score\n",
      " 0.4518662588970722\n"
     ]
    }
   ],
   "source": [
    "# d. Calculate R2 score. (2 points)\n",
    "\n",
    "mult_r2 = r2_score(y, mult_lr.predict(x))\n",
    "\n",
    "print(\"R2 score\\n\", mult_r2)"
   ]
  }
 ],
 "metadata": {
  "kernelspec": {
   "display_name": "msda",
   "language": "python",
   "name": "python3"
  },
  "language_info": {
   "codemirror_mode": {
    "name": "ipython",
    "version": 3
   },
   "file_extension": ".py",
   "mimetype": "text/x-python",
   "name": "python",
   "nbconvert_exporter": "python",
   "pygments_lexer": "ipython3",
   "version": "3.11.5"
  }
 },
 "nbformat": 4,
 "nbformat_minor": 2
}
