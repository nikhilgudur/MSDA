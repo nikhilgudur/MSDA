{
 "cells": [
  {
   "cell_type": "code",
   "execution_count": 72,
   "metadata": {},
   "outputs": [],
   "source": [
    "import pandas as pd\n",
    "import numpy as np\n",
    "from sklearn.model_selection import train_test_split"
   ]
  },
  {
   "cell_type": "code",
   "execution_count": 73,
   "metadata": {},
   "outputs": [],
   "source": [
    "class KNN:\n",
    "    def __euclidean_distance(self, row1, row2):\n",
    "        distance = 0.0\n",
    "        for i in range(len(row1)-1):\n",
    "            distance += (float(row1[i]) - float(row2[i]))**2\n",
    "        return np.sqrt(distance)\n",
    "\n",
    "\n",
    "    def __get_neighbors(self, train, test_row, num_neighbors):\n",
    "        distances = list()\n",
    "        for train_row in train:\n",
    "            train_row_list = train_row[:-1].tolist()\n",
    "            dist = self.__euclidean_distance(test_row, train_row_list)\n",
    "            distances.append((train_row_list, dist))\n",
    "        distances.sort(key=lambda tup: tup[1])\n",
    "        neighbors = [distances[i][0] for i in range(num_neighbors)]\n",
    "        return neighbors\n",
    "\n",
    "    def predict_classification(self, train, test_row, num_neighbors):\n",
    "        neighbors = self.__get_neighbors(train, list(test_row), num_neighbors)\n",
    "        output_values = [row[-1] for row in neighbors]\n",
    "        prediction = max(set(output_values), key=output_values.count)\n",
    "        return prediction\n",
    "\n"
   ]
  },
  {
   "cell_type": "code",
   "execution_count": 74,
   "metadata": {},
   "outputs": [
    {
     "name": "stdout",
     "output_type": "stream",
     "text": [
      "Accuracy for K as 3: 0.9671155209265556\n",
      "K = 1\n",
      "KNN accuracy: 0.9671155209265556\n",
      "K = 3\n",
      "KNN accuracy: 0.9671155209265556\n",
      "K = 5\n",
      "KNN accuracy: 0.9671155209265556\n",
      "K = 7\n",
      "KNN accuracy: 0.9671155209265556\n",
      "K = 9\n",
      "KNN accuracy: 0.9671155209265556\n"
     ]
    }
   ],
   "source": [
    "df = pd.read_csv(\"./dataset.csv\")\n",
    "np_dataset = df.to_numpy()\n",
    "\n",
    "\n",
    "test_row = 0.4073167465959663,0.9671155219265555,0\n",
    "\n",
    "knn = KNN()\n",
    "\n",
    "\n",
    "\n",
    "for k in range(1, 10, 2):\n",
    "    print(f\"K = {k}\")\n",
    "    print(f\"KNN accuracy: {knn.predict_classification(np_dataset, test_row, k)}\")\n",
    "\n",
    "\n",
    "\n",
    "print(f\"Accuracy for K as 3: {knn.predict_classification(np_dataset, test_row, 3)}\")"
   ]
  },
  {
   "cell_type": "code",
   "execution_count": 77,
   "metadata": {},
   "outputs": [
    {
     "name": "stdout",
     "output_type": "stream",
     "text": [
      "K = 1, Accuracy: 0.50\n",
      "K = 3, Accuracy: 0.50\n",
      "K = 5, Accuracy: 0.60\n",
      "K = 7, Accuracy: 0.60\n",
      "K = 9, Accuracy: 0.60\n",
      "K = 11, Accuracy: 0.80\n",
      "K = 13, Accuracy: 0.80\n",
      "K = 15, Accuracy: 0.90\n"
     ]
    }
   ],
   "source": [
    "def evaluate_knn(train_data, test_data, num_neighbors, threshold=0.5):\n",
    "    knn = KNN()\n",
    "    correct_predictions = 0\n",
    "    total_instances = len(test_data)\n",
    "\n",
    "    for test_instance in test_data:\n",
    "        test_features = test_instance[:-1]\n",
    "        actual_label = test_instance[-1]\n",
    "        predicted_value = knn.predict_classification(train_data, test_features, num_neighbors)\n",
    "\n",
    "        predicted_label = 1 if float(predicted_value) >= threshold else 0\n",
    "\n",
    "        if int(predicted_label) == int(actual_label):\n",
    "            correct_predictions += 1\n",
    "\n",
    "    accuracy = correct_predictions / total_instances\n",
    "    return accuracy\n",
    "\n",
    "\n",
    "train_data, test_data = train_test_split(np_dataset, test_size=0.2, random_state=42)\n",
    "\n",
    "for k in range(1, 16, 2):\n",
    "    accuracy = evaluate_knn(train_data, test_data, num_neighbors=k)\n",
    "    print(f\"K = {k}, Accuracy: {accuracy:.2f}\")\n",
    "\n",
    "\n"
   ]
  }
 ],
 "metadata": {
  "kernelspec": {
   "display_name": "msda",
   "language": "python",
   "name": "python3"
  },
  "language_info": {
   "codemirror_mode": {
    "name": "ipython",
    "version": 3
   },
   "file_extension": ".py",
   "mimetype": "text/x-python",
   "name": "python",
   "nbconvert_exporter": "python",
   "pygments_lexer": "ipython3",
   "version": "3.12.6"
  }
 },
 "nbformat": 4,
 "nbformat_minor": 2
}
