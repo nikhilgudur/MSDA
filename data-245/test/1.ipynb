{
 "cells": [
  {
   "cell_type": "code",
   "execution_count": 6,
   "metadata": {},
   "outputs": [],
   "source": [
    "import pandas as pd\n",
    "from math import sqrt"
   ]
  },
  {
   "cell_type": "code",
   "execution_count": 14,
   "metadata": {},
   "outputs": [],
   "source": [
    "class KNN:\n",
    "    def __euclidean_distance(self, row1, row2):\n",
    "        distance = 0.0\n",
    "        for i in range(len(row1)-1):\n",
    "            distance += (float(row1[i]) - float(row2[i]))**2\n",
    "        return sqrt(distance)\n",
    "\n",
    "\n",
    "    def __get_neighbors(self, train, test_row, num_neighbors):\n",
    "        distances = list()\n",
    "        for _, train_row in train.iterrows():\n",
    "            train_row_list = train_row[:-1].tolist()\n",
    "            dist = self.__euclidean_distance(test_row, train_row_list)\n",
    "            distances.append((train_row_list, dist))\n",
    "        distances.sort(key=lambda tup: tup[1])\n",
    "        neighbors = [distances[i][0] for i in range(num_neighbors)]\n",
    "        return neighbors\n",
    "\n",
    "    def predict_classification(self, train, test_row, num_neighbors):\n",
    "        neighbors = self.__get_neighbors(train, list(\n",
    "            test_row[:-1]), num_neighbors)\n",
    "        output_values = [row[-1] for row in neighbors]\n",
    "        prediction = max(set(output_values), key=output_values.count)\n",
    "        return prediction\n",
    "\n"
   ]
  },
  {
   "cell_type": "code",
   "execution_count": 16,
   "metadata": {},
   "outputs": [
    {
     "name": "stdout",
     "output_type": "stream",
     "text": [
      "K = 1\n",
      "KNN accuracy: 0.9671155209265556\n",
      "K = 3\n",
      "KNN accuracy: 0.9671155209265556\n",
      "K = 5\n",
      "KNN accuracy: 0.9671155209265556\n",
      "K = 7\n",
      "KNN accuracy: 0.9671155209265556\n",
      "K = 9\n",
      "KNN accuracy: 0.9671155209265556\n"
     ]
    }
   ],
   "source": [
    "df = pd.read_csv(\"./dataset.csv\")\n",
    "\n",
    "test_row = 0.4073167465959663,0.9671155219265555,0\n",
    "\n",
    "knn = KNN()\n",
    "\n",
    "for k in range(1, 10, 2):\n",
    "    print(f\"K = {k}\")\n",
    "    print(f\"KNN accuracy: {knn.predict_classification(df.iloc[1:], test_row, k)}\")"
   ]
  }
 ],
 "metadata": {
  "kernelspec": {
   "display_name": "msda",
   "language": "python",
   "name": "python3"
  },
  "language_info": {
   "codemirror_mode": {
    "name": "ipython",
    "version": 3
   },
   "file_extension": ".py",
   "mimetype": "text/x-python",
   "name": "python",
   "nbconvert_exporter": "python",
   "pygments_lexer": "ipython3",
   "version": "3.11.8"
  }
 },
 "nbformat": 4,
 "nbformat_minor": 2
}
