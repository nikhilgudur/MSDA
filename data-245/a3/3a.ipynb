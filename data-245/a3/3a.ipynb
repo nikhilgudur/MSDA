{
 "cells": [
  {
   "cell_type": "code",
   "execution_count": 8,
   "metadata": {},
   "outputs": [],
   "source": [
    "from math import sqrt\n",
    "from csv import reader\n",
    "import pandas as pd"
   ]
  },
  {
   "cell_type": "code",
   "execution_count": 9,
   "metadata": {},
   "outputs": [],
   "source": [
    "def load_csv(filename):\n",
    "    dataset = list()\n",
    "    with open(filename, 'r') as file:\n",
    "        csv_reader = reader(file)\n",
    "        next(csv_reader)\n",
    "        for row in csv_reader:\n",
    "            if not row:\n",
    "                continue\n",
    "            dataset.append(row)\n",
    "    return dataset\n"
   ]
  },
  {
   "cell_type": "code",
   "execution_count": 10,
   "metadata": {},
   "outputs": [],
   "source": [
    "def euclidean_distance(row1, row2):\n",
    "    distance = 0.0\n",
    "    for i in range(len(row1)-1):\n",
    "        distance += (float(row1[i]) - float(row2[i]))**2\n",
    "    return sqrt(distance)\n",
    "\n",
    "\n",
    "def manhattan_distance(row1, row2):\n",
    "    distance = 0.0\n",
    "    for i in range(len(row1)-1):\n",
    "        distance += abs(float(row1[i]) - float(row2[i]))\n",
    "    return distance\n",
    "\n",
    "\n",
    "def minkowski_distance(row1, row2, p=3):\n",
    "    distance = 0.0\n",
    "    for i in range(len(row1)-1):\n",
    "        distance += abs(float(row1[i]) - float(row2[i])) ** p\n",
    "    return distance ** (1 / p)\n",
    "\n",
    "\n",
    "def chebyshev_distance(row1, row2):\n",
    "    distance = 0.0\n",
    "    for i in range(len(row1)-1):  # Assuming the last element might be a class label\n",
    "        distance = max(distance, abs(float(row1[i]) - float(row2[i])))\n",
    "    return distance\n",
    "\n",
    "\n",
    "def hamming_distance(row1, row2):\n",
    "    distance = 0.0\n",
    "    for i in range(len(row1)-1):\n",
    "        if row1[i] != row2:\n",
    "            distance += 1\n",
    "    return distance\n",
    "\n",
    "\n",
    "def cosine_distance(row1, row2):\n",
    "    row1 = [float(i) for i in row1[:-1]]\n",
    "    row2 = [float(i) for i in row2[:-1]]\n",
    "\n",
    "    dot_product = sum(a*b for a, b in zip(row1, row2))\n",
    "    magnitude_row1 = sum(a**2 for a in row1) ** 0.5\n",
    "    magnitude_row2 = sum(b**2 for b in row2) ** 0.5\n",
    "    cosine_similarity = dot_product / (magnitude_row1 * magnitude_row2)\n",
    "    return 1 - cosine_similarity"
   ]
  },
  {
   "cell_type": "code",
   "execution_count": 11,
   "metadata": {},
   "outputs": [],
   "source": [
    "def get_distance_function(metric, p=3):\n",
    "    if metric == 'euclidean':\n",
    "        return euclidean_distance\n",
    "    elif metric == 'manhattan':\n",
    "        return manhattan_distance\n",
    "    elif metric == 'minkowski':\n",
    "        return lambda row1, row2: minkowski_distance(row1, row2, p)\n",
    "    elif metric == 'chebyshev':\n",
    "        return chebyshev_distance\n",
    "    elif metric == 'hamming':\n",
    "        return hamming_distance\n",
    "    elif metric == 'cosine':\n",
    "        return cosine_distance\n",
    "    else:\n",
    "        return euclidean_distance"
   ]
  },
  {
   "cell_type": "code",
   "execution_count": 12,
   "metadata": {},
   "outputs": [],
   "source": [
    "def get_neighbors(train, test_row, num_neighbors, metric='euclidean', p=3):\n",
    "    distances = list()\n",
    "    distance_function = get_distance_function(metric, p)\n",
    "    for _, train_row in train.iterrows():\n",
    "        train_row_list = train_row[:-1].tolist()\n",
    "        dist = distance_function(test_row, train_row_list)\n",
    "        distances.append((train_row_list, dist))\n",
    "    distances.sort(key=lambda tup: tup[1])\n",
    "    neighbors = [distances[i][0] for i in range(num_neighbors)]\n",
    "    return neighbors\n",
    "\n",
    "\n",
    "def predict_classification(train, test_row, num_neighbors, metric='euclidean'):\n",
    "    neighbors = get_neighbors(train, list(\n",
    "        test_row[:-1]), num_neighbors, metric=metric)\n",
    "    output_values = [row[-1] for row in neighbors]\n",
    "    prediction = max(set(output_values), key=output_values.count)\n",
    "    return prediction\n",
    "\n",
    "\n",
    "def load_data(filename):\n",
    "    df = pd.read_csv(filename, header=None)\n",
    "    df = df.replace([\"Male\", \"Female\"], [0, 1])\n",
    "    return df"
   ]
  },
  {
   "cell_type": "code",
   "execution_count": 13,
   "metadata": {},
   "outputs": [],
   "source": [
    "data = load_data(\"./indian_liver_patient.csv\")\n",
    "test_row_index = 0\n",
    "\n",
    "test_row = 63, 0, 0.9, 0.2, 194, 52, 45, 6, 3.9, 1.85,"
   ]
  },
  {
   "cell_type": "code",
   "execution_count": 14,
   "metadata": {},
   "outputs": [
    {
     "name": "stdout",
     "output_type": "stream",
     "text": [
      "Euclidean Prediction: 0.8\n",
      "Manhattan Prediction: 0.8\n",
      "Minkowski Prediction: 0.8\n",
      "Chebyshev Prediction: 0.8\n",
      "Hamming Prediction: 0.74\n",
      "Cosine Prediction: 0.8\n"
     ]
    }
   ],
   "source": [
    "print(\n",
    "    f\"Euclidean Prediction: {predict_classification(data.iloc[1:], test_row, 3, metric='euclidean')}\")\n",
    "print(\n",
    "    f\"Manhattan Prediction: {predict_classification(data.iloc[1:], test_row, 3, metric='manhattan')}\")\n",
    "print(\n",
    "    f\"Minkowski Prediction: {predict_classification(data.iloc[1:], test_row, 3, metric='minkowski')}\")\n",
    "print(\n",
    "    f\"Chebyshev Prediction: {predict_classification(data.iloc[1:], test_row, 3, metric='chebyshev')}\")\n",
    "print(\n",
    "    f\"Hamming Prediction: {predict_classification(data.iloc[1:], test_row, 3, metric='hamming')}\")\n",
    "print(\n",
    "    f\"Cosine Prediction: {predict_classification(data.iloc[1:], test_row, 3, metric='cosine')}\")"
   ]
  }
 ],
 "metadata": {
  "kernelspec": {
   "display_name": "base",
   "language": "python",
   "name": "python3"
  },
  "language_info": {
   "codemirror_mode": {
    "name": "ipython",
    "version": 3
   },
   "file_extension": ".py",
   "mimetype": "text/x-python",
   "name": "python",
   "nbconvert_exporter": "python",
   "pygments_lexer": "ipython3",
   "version": "3.11.7"
  }
 },
 "nbformat": 4,
 "nbformat_minor": 2
}
